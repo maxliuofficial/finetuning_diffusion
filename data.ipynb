{
 "cells": [
  {
   "cell_type": "code",
   "execution_count": null,
   "metadata": {},
   "outputs": [],
   "source": [
    "from datasets import Dataset\n",
    "from PIL import Image\n",
    "import os\n",
    "\n",
    "def load_dataset_from_folder(folder_path):\n",
    "    # Lists to store the data\n",
    "    images = []\n",
    "    # Loop through each subfolder\n",
    "    for image_file in os.listdir(folder_path):\n",
    "        image_path = os.path.join(folder_path, image_file)\n",
    "        # Open the image file\n",
    "        with Image.open(image_path) as img:\n",
    "            # Append the image and its label to the lists\n",
    "            images.append(img.convert('RGB'))\n",
    "\n",
    "    return Dataset.from_dict({'images': images})\n",
    "\n",
    "# # Replace 'path/to/your/folder' with the path to your local folder\n",
    "dataset = load_dataset_from_folder('data/mliu_data_resized')\n",
    "print(dataset)"
   ]
  },
  {
   "cell_type": "code",
   "execution_count": null,
   "metadata": {},
   "outputs": [],
   "source": [
    "img: Image.Image = dataset['images'][0]"
   ]
  }
 ],
 "metadata": {
  "kernelspec": {
   "display_name": "cloudspace",
   "language": "python",
   "name": "python3"
  },
  "language_info": {
   "codemirror_mode": {
    "name": "ipython",
    "version": 3
   },
   "file_extension": ".py",
   "mimetype": "text/x-python",
   "name": "python",
   "nbconvert_exporter": "python",
   "pygments_lexer": "ipython3",
   "version": "3.12.4"
  }
 },
 "nbformat": 4,
 "nbformat_minor": 2
}
